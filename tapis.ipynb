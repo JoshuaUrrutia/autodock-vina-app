{
 "cells": [
  {
   "cell_type": "markdown",
   "metadata": {},
   "source": [
    "## First Client Creation\n",
    "The first time you create a client is kind of annoying and must be done with a username and password \\\n",
    "Copy secrets.sample into secrets.json and enter your username/password into that json file \\\n",
    "Then you should be able to run the next block in its entirety to generate a local cached client (`~/.tapis3/portals.json`) \\\n",
    "And in the future whenever you use TAPIS you can authenticate with this cached client instead of using username/password\n",
    "\n"
   ]
  },
  {
   "cell_type": "code",
   "execution_count": null,
   "metadata": {},
   "outputs": [],
   "source": [
    "import json\n",
    "from tapipy.tapis import Tapis\n",
    "import os\n",
    "\n",
    "with open(\"secrets.json\", 'r') as openfile:\n",
    "  secrets = json.load(openfile)\n",
    "\n",
    "t = Tapis(base_url='https://portals.tapis.io', username=secrets['username'], password=secrets['password'])\n",
    "t.get_tokens()\n",
    "new_client = t.authenticator.create_client(client_id='new_user_client')\n",
    "\n",
    "t2 = Tapis(base_url=t.base_url,\n",
    "        username=secrets['username'],\n",
    "        password=secrets['password'],\n",
    "        client_id=new_client.client_id,\n",
    "        client_key=new_client.client_key)\n",
    "t2.get_tokens()\n",
    "\n",
    "# You should now be able to run refresh_tokens with no errors. The t2 object will refresh when needed.\n",
    "t2.refresh_tokens()\n",
    "\n",
    "client_cache = {\n",
    "    \"base_url\": t2.base_url,\n",
    "    \"tenant_id\": t2.tenant_id,\n",
    "    \"client_id\": t2.client_id,\n",
    "    \"client_key\": t2.client_key,\n",
    "    \"access_token\": t2.access_token.access_token,\n",
    "    \"refresh_token\": t2.refresh_token.refresh_token,\n",
    "    \"expires_at\": t2.access_token.expires_at.strftime(\"%Y-%m-%dT%H:%M:%S\")\n",
    "}\n",
    "os.mkdir(os.path.expanduser(\"~/.tapis3\"))\n",
    "with open(os.path.expanduser('~/.tapis3/portals.json'), 'w') as f:\n",
    "    json.dump(client_cache, f)"
   ]
  },
  {
   "cell_type": "markdown",
   "metadata": {},
   "source": [
    "## Starting from the Cached Client\n",
    "Ok, now we can use that cached client to create our TAPIS python object and deploy systems/apps/jobs etc."
   ]
  },
  {
   "cell_type": "code",
   "execution_count": 11,
   "metadata": {},
   "outputs": [],
   "source": [
    "import json\n",
    "from tapipy.tapis import Tapis\n",
    "import os\n",
    "\n",
    "with open(os.path.expanduser('~/.tapis3/portals.json'), 'r') as openfile:\n",
    "  data = json.load(openfile)\n",
    "\n",
    "\n",
    "\n",
    "t = Tapis(base_url=data[\"base_url\"],\n",
    "           tenant_id=data[\"tenant_id\"],\n",
    "           access_token=data[\"access_token\"],\n",
    "           refresh_token=data[\"refresh_token\"],\n",
    "           client_id=data[\"client_id\"],\n",
    "           client_key=data[\"client_key\"],\n",
    "           verify=True)\n",
    "t.get_tokens()\n"
   ]
  },
  {
   "cell_type": "markdown",
   "metadata": {},
   "source": [
    "## Some Useful Commands"
   ]
  },
  {
   "cell_type": "code",
   "execution_count": 12,
   "metadata": {},
   "outputs": [
    {
     "data": {
      "text/plain": [
       "[\n",
       " appId: jupyter-lab-hpc-ls6\n",
       " appVersion: 1.1.0\n",
       " archiveSystemId: cloud.data\n",
       " created: 2024-04-22T18:32:43.357014Z\n",
       " ended: None\n",
       " execSystemId: ls6\n",
       " lastUpdated: 2024-04-22T18:50:42.715145Z\n",
       " name: jupyter-lab-hpc-ls6-1.1.0_2024-04-22T18:32:31\n",
       " owner: urrutia\n",
       " remoteStarted: 2024-04-22T18:33:23.089482Z\n",
       " status: RUNNING\n",
       " tenant: portals\n",
       " uuid: bb7f08b4-698e-4d33-9460-a69d64d8236b-007]"
      ]
     },
     "execution_count": 12,
     "metadata": {},
     "output_type": "execute_result"
    }
   ],
   "source": [
    "t.systems.getSystems(listType='ALL')\n",
    "t.jobs.getJobList()\n",
    "#t.jobs.getJob(jobUuid='')"
   ]
  },
  {
   "cell_type": "code",
   "execution_count": 19,
   "metadata": {},
   "outputs": [
    {
     "data": {
      "text/plain": [
       "\n",
       "url: http://portals.tapis.io/v3/apps/urrutia-Autodock-Vina"
      ]
     },
     "execution_count": 19,
     "metadata": {},
     "output_type": "execute_result"
    }
   ],
   "source": [
    "# deploy new app\n",
    "with open('new_app.json', 'r') as openfile:\n",
    "    new_app = json.load(openfile)\n",
    "t.apps.createAppVersion(**new_app)\n",
    "# update existing app\n",
    "#t.apps.patchApp(appId=new_app['id'],appVersion=new_app['version'],jobAttributes=new_app['jobAttributes'])"
   ]
  },
  {
   "cell_type": "code",
   "execution_count": null,
   "metadata": {},
   "outputs": [],
   "source": [
    "#submit a job\n",
    "with open('job.json', 'r') as openfile:\n",
    "    job = json.load(openfile)\n",
    "submitted = t.jobs.submitJob(**job)"
   ]
  },
  {
   "cell_type": "code",
   "execution_count": null,
   "metadata": {},
   "outputs": [],
   "source": []
  },
  {
   "cell_type": "code",
   "execution_count": null,
   "metadata": {},
   "outputs": [],
   "source": []
  },
  {
   "cell_type": "code",
   "execution_count": null,
   "metadata": {},
   "outputs": [],
   "source": [
    "\n"
   ]
  },
  {
   "cell_type": "code",
   "execution_count": null,
   "metadata": {},
   "outputs": [],
   "source": []
  },
  {
   "cell_type": "code",
   "execution_count": null,
   "metadata": {},
   "outputs": [],
   "source": []
  },
  {
   "cell_type": "code",
   "execution_count": null,
   "metadata": {},
   "outputs": [],
   "source": []
  }
 ],
 "metadata": {
  "kernelspec": {
   "display_name": "Python 3",
   "language": "python",
   "name": "python3"
  },
  "language_info": {
   "codemirror_mode": {
    "name": "ipython",
    "version": 3
   },
   "file_extension": ".py",
   "mimetype": "text/x-python",
   "name": "python",
   "nbconvert_exporter": "python",
   "pygments_lexer": "ipython3",
   "version": "3.9.11"
  }
 },
 "nbformat": 4,
 "nbformat_minor": 2
}
